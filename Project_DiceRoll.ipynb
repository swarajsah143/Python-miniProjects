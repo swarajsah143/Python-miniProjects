{
 "cells": [
  {
   "cell_type": "code",
   "execution_count": null,
   "id": "5fc6854d",
   "metadata": {},
   "outputs": [
    {
     "name": "stdout",
     "output_type": "stream",
     "text": [
      "Rolling the dice....\n",
      "The number is  1\n",
      "Rolling the dice....\n",
      "The number is  1\n",
      "Rolling the dice....\n",
      "The number is  6\n",
      "Rolling the dice....\n",
      "The number is  1\n",
      "Rolling the dice....\n",
      "The number is  5\n",
      "Rolling the dice....\n",
      "The number is  4\n",
      "Rolling the dice....\n",
      "The number is  2\n",
      "Rolling the dice....\n",
      "The number is  5\n",
      "Rolling the dice....\n",
      "The number is  4\n",
      "Invalid choice!, please enter \"y\" or \"n\".\n",
      "Invalid choice!, please enter \"y\" or \"n\".\n",
      "Invalid choice!, please enter \"y\" or \"n\".\n",
      "Rolling the dice....\n",
      "The number is  1\n",
      "Rolling the dice....\n",
      "The number is  6\n",
      "Rolling the dice....\n",
      "The number is  2\n",
      "Rolling the dice....\n",
      "The number is  5\n",
      "Rolling the dice....\n",
      "The number is  6\n",
      "Rolling the dice....\n",
      "The number is  1\n",
      "Rolling the dice....\n",
      "The number is  2\n",
      "Rolling the dice....\n",
      "The number is  6\n",
      "Rolling the dice....\n",
      "The number is  6\n",
      "Rolling the dice....\n",
      "The number is  3\n",
      "Rolling the dice....\n",
      "The number is  2\n",
      "Rolling the dice....\n",
      "The number is  4\n",
      "Rolling the dice....\n",
      "The number is  5\n",
      "Thanks for playing!\n"
     ]
    }
   ],
   "source": [
    "import random\n",
    "while True:\n",
    "    user=input(\"Do you want to roll the dice (y/n) ?\").lower()\n",
    "    if user=='y':\n",
    "        print(\"Rolling the dice....\")\n",
    "        print(\"The number is \",random.randint(1,6))\n",
    "    elif user=='n':\n",
    "        print(\"Thanks for playing!\")\n",
    "        break\n",
    "    else:\n",
    "        print('Invalid choice!, please enter \"y\" or \"n\".')\n",
    "        "
   ]
  },
  {
   "cell_type": "code",
   "execution_count": null,
   "id": "7fc80668",
   "metadata": {},
   "outputs": [],
   "source": []
  }
 ],
 "metadata": {
  "kernelspec": {
   "display_name": "Python 3",
   "language": "python",
   "name": "python3"
  },
  "language_info": {
   "codemirror_mode": {
    "name": "ipython",
    "version": 3
   },
   "file_extension": ".py",
   "mimetype": "text/x-python",
   "name": "python",
   "nbconvert_exporter": "python",
   "pygments_lexer": "ipython3",
   "version": "3.13.1"
  }
 },
 "nbformat": 4,
 "nbformat_minor": 5
}
