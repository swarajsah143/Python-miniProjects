{
 "cells": [
  {
   "cell_type": "code",
   "execution_count": 5,
   "id": "682b27d6",
   "metadata": {},
   "outputs": [
    {
     "name": "stdout",
     "output_type": "stream",
     "text": [
      "Your choice was ✂️ \n",
      "Computer choice was 📃\n",
      "You won!\n",
      "\n",
      "Your choice was ✂️ \n",
      "Computer choice was ✂️\n",
      "It's a draw!\n",
      "\n",
      "Your choice was ✂️ \n",
      "Computer choice was 📃\n",
      "You won!\n",
      "\n",
      "Your choice was ✂️ \n",
      "Computer choice was ✂️\n",
      "It's a draw!\n",
      "\n",
      "Your choice was ✂️ \n",
      "Computer choice was 📃\n",
      "You won!\n",
      "\n",
      "Invalid!\n"
     ]
    }
   ],
   "source": [
    "import random\n",
    "\n",
    "\n",
    "emojis={'s':'✂️','p':'📃','r':'🪨'}\n",
    "choice=('s','p','r')\n",
    "\n",
    "while True:\n",
    "    comp=random.choice(['r','p','s'])\n",
    "\n",
    "    user=input(\"Rock, Paper,Scissor ? (r/p/s)\\n Or any other letter to exit.\").lower()    \n",
    "\n",
    "    if user not in choice:\n",
    "        print(\"Invalid!\")\n",
    "        break\n",
    "\n",
    "    print(f\"Your choice was {emojis[user]} \\nComputer choice was {emojis[comp]}\")\n",
    "\n",
    "    if user==comp:\n",
    "        print(\"It's a draw!\\n\")\n",
    "\n",
    "    elif (user=='r' and comp=='s') or (user=='p' and comp=='r') or (user=='s' and comp=='p'):\n",
    "        print(\"You won!\\n\")\n",
    "\n",
    "    else:\n",
    "        print(\"You lose!\\n\")\n",
    "    \n",
    "\n",
    "\n",
    "\n",
    "\n",
    "\n",
    "\n",
    "    \n",
    "\n",
    "\n",
    "\n",
    "\n"
   ]
  },
  {
   "cell_type": "code",
   "execution_count": null,
   "id": "287d8bca",
   "metadata": {},
   "outputs": [],
   "source": []
  },
  {
   "cell_type": "code",
   "execution_count": null,
   "id": "6692c146",
   "metadata": {},
   "outputs": [],
   "source": []
  }
 ],
 "metadata": {
  "kernelspec": {
   "display_name": "Python 3",
   "language": "python",
   "name": "python3"
  },
  "language_info": {
   "codemirror_mode": {
    "name": "ipython",
    "version": 3
   },
   "file_extension": ".py",
   "mimetype": "text/x-python",
   "name": "python",
   "nbconvert_exporter": "python",
   "pygments_lexer": "ipython3",
   "version": "3.13.1"
  }
 },
 "nbformat": 4,
 "nbformat_minor": 5
}
