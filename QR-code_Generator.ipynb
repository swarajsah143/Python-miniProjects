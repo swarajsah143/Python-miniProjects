{
 "cells": [
  {
   "cell_type": "code",
   "execution_count": 5,
   "id": "dbda11a9",
   "metadata": {},
   "outputs": [
    {
     "name": "stdout",
     "output_type": "stream",
     "text": [
      "QR code saved as Niranjan.jpg\n"
     ]
    }
   ],
   "source": [
    "import qrcode\n",
    "\n",
    "\n",
    "data=input(\"Enter the texts or url: \").strip()\n",
    "filename= input(\"Enter the filename: \").strip()\n",
    "qr=qrcode.QRCode(box_size=10,border=4)\n",
    "qr.add_data(data)\n",
    "image=qr.make_image(fill_color='black', back_color='white')\n",
    "image.save(filename)\n",
    "print(f\"QR code saved as {filename}\")"
   ]
  },
  {
   "cell_type": "code",
   "execution_count": null,
   "id": "90f32977",
   "metadata": {},
   "outputs": [],
   "source": []
  }
 ],
 "metadata": {
  "kernelspec": {
   "display_name": "Python 3",
   "language": "python",
   "name": "python3"
  },
  "language_info": {
   "codemirror_mode": {
    "name": "ipython",
    "version": 3
   },
   "file_extension": ".py",
   "mimetype": "text/x-python",
   "name": "python",
   "nbconvert_exporter": "python",
   "pygments_lexer": "ipython3",
   "version": "3.13.1"
  }
 },
 "nbformat": 4,
 "nbformat_minor": 5
}
