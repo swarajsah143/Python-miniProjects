{
 "cells": [
  {
   "cell_type": "markdown",
   "id": "253870f8",
   "metadata": {},
   "source": [
    "The Number Guessing Game\n"
   ]
  },
  {
   "cell_type": "code",
   "execution_count": 2,
   "id": "0533c38b",
   "metadata": {},
   "outputs": [],
   "source": [
    "import random"
   ]
  },
  {
   "cell_type": "code",
   "execution_count": 3,
   "id": "1c067261",
   "metadata": {},
   "outputs": [
    {
     "name": "stdout",
     "output_type": "stream",
     "text": [
      "Congratulation You have guessed the number in 9 attempt and the number was 65\n"
     ]
    }
   ],
   "source": [
    " \n",
    "Comp=random.randint(0,100)\n",
    "# print(Comp)\n",
    "user=int(input(\"Guess any integer number between 0 and 100: \"))\n",
    "attempt=1\n",
    "while Comp != user:\n",
    "    if user<Comp:\n",
    "        user=int(input(f\"Guess other integer number greater than {user} : \"))\n",
    "        attempt+=1\n",
    "    elif user>Comp:\n",
    "        user=int(input(f\"Guess other integer number less than {user} : \"))\n",
    "        attempt+=1\n",
    "\n",
    "print(f\"Congratulation You have guessed the number in {attempt} attempt and the number was {Comp}\")\n",
    "\n"
   ]
  },
  {
   "cell_type": "code",
   "execution_count": 9,
   "id": "efd90203",
   "metadata": {},
   "outputs": [
    {
     "name": "stdout",
     "output_type": "stream",
     "text": [
      "Guess other integer smaller than 343\n",
      "Guess other integer smaller than 43\n",
      "Guess other integer smaller than 22\n",
      "Guess other integer smaller than 112\n",
      "Guess other integer smaller than 22\n",
      "Sorry,You were unable to guess!\n",
      "\n",
      " ----------Game Over----------\n"
     ]
    }
   ],
   "source": [
    "Comp=random.randint(0,100)\n",
    "attempt=1\n",
    "\n",
    "while True:\n",
    "    user=input(\"Guess any integer number between 0 and 100 or press  'Q' for Quite. \")\n",
    "    if user==\"Q\":\n",
    "        print(\"Sorry,You were unable to guess!\")\n",
    "        break\n",
    "    try:\n",
    "        user=int(user)\n",
    "    except ValueError:\n",
    "        print(\"Invalid Number!\")\n",
    "\n",
    "    try:\n",
    "        if Comp==user:\n",
    "            print(f\"Congratulation You have guessed the number in {attempt} attempt and the number was {Comp}\")\n",
    "            break\n",
    "        elif user<Comp:\n",
    "            attempt+=1\n",
    "            print(f\"Guess other integer greater than {user}\")\n",
    "        else:\n",
    "            attempt+=1\n",
    "            print(f\"Guess other integer smaller than {user}\")\n",
    "    except:\n",
    "        pass\n",
    "    \n",
    "        \n",
    "    \n",
    "print(\"\\n ----------Game Over----------\")\n",
    "\n",
    "\n",
    "\n",
    "\n",
    "   \n"
   ]
  },
  {
   "cell_type": "code",
   "execution_count": null,
   "id": "61fbdeb1",
   "metadata": {},
   "outputs": [],
   "source": []
  }
 ],
 "metadata": {
  "kernelspec": {
   "display_name": "Python 3",
   "language": "python",
   "name": "python3"
  },
  "language_info": {
   "codemirror_mode": {
    "name": "ipython",
    "version": 3
   },
   "file_extension": ".py",
   "mimetype": "text/x-python",
   "name": "python",
   "nbconvert_exporter": "python",
   "pygments_lexer": "ipython3",
   "version": "3.13.1"
  }
 },
 "nbformat": 4,
 "nbformat_minor": 5
}
