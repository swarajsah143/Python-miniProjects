{
 "cells": [
  {
   "cell_type": "markdown",
   "id": "2c78d143",
   "metadata": {},
   "source": [
    "Generate a Random Pass"
   ]
  },
  {
   "cell_type": "code",
   "execution_count": 1,
   "id": "4476763e",
   "metadata": {},
   "outputs": [],
   "source": [
    "import random\n",
    "import string as st"
   ]
  },
  {
   "cell_type": "code",
   "execution_count": null,
   "id": "9ef2a7cc",
   "metadata": {},
   "outputs": [
    {
     "name": "stdout",
     "output_type": "stream",
     "text": [
      "The random generated password is PP)olVZ@jq:j\n"
     ]
    }
   ],
   "source": [
    "charValues=st.ascii_letters+st.punctuation+st.digits\n",
    "psdStr=\"\"\n",
    "\n",
    "for i in range(12):\n",
    "    password=random.choice(charValues)\n",
    "    psdStr+=password\n",
    "print(f\"The random generated password is {psdStr}.\")\n"
   ]
  },
  {
   "cell_type": "code",
   "execution_count": 18,
   "id": "08bc6f72",
   "metadata": {},
   "outputs": [
    {
     "name": "stdout",
     "output_type": "stream",
     "text": [
      "The random generated password is aHrhq)]G!jfm\n"
     ]
    }
   ],
   "source": [
    "# By list comprehension\n",
    "password2= \"\".join([random.choice(charValues) for i in range(12)])\n",
    "print(f\"The random generated password is {password2}\")\n"
   ]
  },
  {
   "cell_type": "code",
   "execution_count": null,
   "id": "0ae7dcce",
   "metadata": {},
   "outputs": [],
   "source": []
  }
 ],
 "metadata": {
  "kernelspec": {
   "display_name": "Python 3",
   "language": "python",
   "name": "python3"
  },
  "language_info": {
   "codemirror_mode": {
    "name": "ipython",
    "version": 3
   },
   "file_extension": ".py",
   "mimetype": "text/x-python",
   "name": "python",
   "nbconvert_exporter": "python",
   "pygments_lexer": "ipython3",
   "version": "3.13.1"
  }
 },
 "nbformat": 4,
 "nbformat_minor": 5
}
